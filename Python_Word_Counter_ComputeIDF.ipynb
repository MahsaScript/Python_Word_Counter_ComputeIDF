{
  "nbformat": 4,
  "nbformat_minor": 0,
  "metadata": {
    "colab": {
      "provenance": []
    },
    "kernelspec": {
      "name": "python3",
      "display_name": "Python 3"
    },
    "language_info": {
      "name": "python"
    }
  },
  "cells": [
    {
      "cell_type": "code",
      "metadata": {
        "colab": {
          "base_uri": "https://localhost:8080/"
        },
        "id": "_Q1fLlhA0Zm8",
        "outputId": "a03e0ccf-0f1f-4445-c928-84260ec763d7"
      },
      "source": [
        "with open('demofile.txt') as documentA:\n",
        "    bagOfWordsA=[word for line in documentA for word in line.split()]\n",
        "\n",
        "with open('demofile2.txt') as documentB:\n",
        "    bagOfWordsB=[word for line in documentB for word in line.split()]\n",
        "\n",
        "\n",
        "\n",
        "uniqueWords = set(bagOfWordsA).union(set(bagOfWordsB))\n",
        "\n",
        "numOfWordsA = dict.fromkeys(uniqueWords,0)\n",
        "\n",
        "for word in bagOfWordsA:\n",
        "    numOfWordsA[word] +=1\n",
        "\n",
        "numOfWordsB = dict.fromkeys(uniqueWords,0)\n",
        "\n",
        "for word in bagOfWordsB:\n",
        "    numOfWordsB[word] +=1\n",
        "\n",
        "\n",
        "def computeIDF(documents):\n",
        "    import math\n",
        "    N = len(documents)\n",
        "\n",
        "    idfDict = dict.fromkeys(documents[0].keys(), 0)\n",
        "\n",
        "    for document in documents:\n",
        "        for word, val in document.items():\n",
        "            if val >0:\n",
        "                idfDict[word] += 1\n",
        "\n",
        "    for word, val in idfDict.items():\n",
        "        idfDict[word] = math.log(N/float(val))\n",
        "\n",
        "    return idfDict\n",
        "\n",
        "\n",
        "idfs = computeIDF([numOfWordsA, numOfWordsB])\n",
        "print('idfs:',idfs)\n"
      ],
      "execution_count": null,
      "outputs": [
        {
          "output_type": "stream",
          "text": [
            "idfs: {'needunder': 0.6931471805599453, 'good': 0.6931471805599453, 'is': 0.6931471805599453, 'bread': 0.6931471805599453, 'and': 0.6931471805599453, 'to': 0.0, 'What': 0.6931471805599453, 'toastedcheese': 0.6931471805599453, 'of': 0.6931471805599453, 'get': 0.6931471805599453, 'should': 0.0, 'everything': 0.6931471805599453, 'find': 0.6931471805599453, 'can': 0.6931471805599453, 'tuna': 0.6931471805599453, 'Do': 0.6931471805599453, 'eating': 0.6931471805599453, 'sandwiches.': 0.6931471805599453, 'one': 0.6931471805599453, 'are': 0.0, 'start': 0.0, 'shopping.': 0.6931471805599453, 'come': 0.6931471805599453, 'shop,': 0.6931471805599453, 'places': 0.6931471805599453, 'sandwiches?': 0.6931471805599453, 'wait': 0.0, 'roof.': 0.6931471805599453, 'great': 0.6931471805599453, 'I': 0.6931471805599453, 'we': 0.0, 'now,': 0.0, 'have': 0.6931471805599453, 'Should': 0.6931471805599453, 'kind': 0.6931471805599453, 'here?': 0.0, 'for': 0.0, 'love': 0.6931471805599453, 'used': 0.6931471805599453, 'or': 0.0, 'Malls': 0.0, 'everyone': 0.0, 'class': 0.0}\n"
          ],
          "name": "stdout"
        }
      ]
    }
  ]
}